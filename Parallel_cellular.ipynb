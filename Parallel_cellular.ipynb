{
  "nbformat": 4,
  "nbformat_minor": 0,
  "metadata": {
    "colab": {
      "provenance": [],
      "authorship_tag": "ABX9TyOt49iGBgiDi3DdP/UiT0GS",
      "include_colab_link": true
    },
    "kernelspec": {
      "name": "python3",
      "display_name": "Python 3"
    },
    "language_info": {
      "name": "python"
    }
  },
  "cells": [
    {
      "cell_type": "markdown",
      "metadata": {
        "id": "view-in-github",
        "colab_type": "text"
      },
      "source": [
        "<a href=\"https://colab.research.google.com/github/hamsika04/5A_BIS/blob/main/Parallel_cellular.ipynb\" target=\"_parent\"><img src=\"https://colab.research.google.com/assets/colab-badge.svg\" alt=\"Open In Colab\"/></a>"
      ]
    },
    {
      "cell_type": "code",
      "execution_count": 1,
      "metadata": {
        "colab": {
          "base_uri": "https://localhost:8080/"
        },
        "id": "t1craMOg4KWo",
        "outputId": "9548bc27-e592-4a3b-9e9f-8600c0736fb4"
      },
      "outputs": [
        {
          "output_type": "stream",
          "name": "stdout",
          "text": [
            "Iteration 1/5, Best Fitness: 15.36545465943943\n",
            "Iteration 2/5, Best Fitness: 7.095020847466257\n",
            "Iteration 3/5, Best Fitness: 2.124404245090978\n",
            "Iteration 4/5, Best Fitness: 2.124404245090978\n",
            "Iteration 5/5, Best Fitness: 1.2273745688565214\n",
            "StudentName: Arugunta hamsika\n",
            "USN: 1BM22CS054\n",
            "\n",
            "Final Best Fitness: 1.2273745688565214\n",
            "Final Best Solution: [-0.6383914   0.34962224  0.82512665 -0.05823114 -0.11563058]\n"
          ]
        }
      ],
      "source": [
        "import numpy as np\n",
        "\n",
        "def obj_fn(x):\n",
        "    return np.sum(x**2)\n",
        "\n",
        "def update_cell_state(cell, neighbors, lb, ub):\n",
        "    new_state = np.mean(neighbors, axis=0)\n",
        "    new_state = np.clip(new_state, lb, ub)\n",
        "    return new_state\n",
        "\n",
        "def parallel_cellular_algorithm(obj_fn, dim, grid_size, iterations, lb, ub):\n",
        "    grid = np.random.uniform(lb, ub, (grid_size, grid_size, dim))\n",
        "    best_solution = None\n",
        "    best_fitness = float('inf')\n",
        "\n",
        "    neighborhood = [(-1, 0), (1, 0), (0, -1), (0, 1)]\n",
        "\n",
        "    for t in range(iterations):\n",
        "        for i in range(grid_size):\n",
        "            for j in range(grid_size):\n",
        "                fitness = obj_fn(grid[i, j])\n",
        "\n",
        "                if fitness < best_fitness:\n",
        "                    best_fitness = fitness\n",
        "                    best_solution = grid[i, j]\n",
        "\n",
        "        new_grid = np.copy(grid)\n",
        "        for i in range(grid_size):\n",
        "            for j in range(grid_size):\n",
        "                neighbors = []\n",
        "                for dx, dy in neighborhood:\n",
        "                    ni, nj = (i + dx) % grid_size, (j + dy) % grid_size\n",
        "                    neighbors.append(grid[ni, nj])\n",
        "\n",
        "                new_grid[i, j] = update_cell_state(grid[i, j], neighbors, lb, ub)\n",
        "\n",
        "        grid = np.copy(new_grid)\n",
        "\n",
        "        print(f\"Iteration {t+1}/{iterations}, Best Fitness: {best_fitness}\")\n",
        "\n",
        "    return best_fitness, best_solution\n",
        "\n",
        "dim = 5\n",
        "grid_size = 10\n",
        "iterations = 5\n",
        "lb = -10\n",
        "ub = 10\n",
        "\n",
        "best_fitness, best_solution = parallel_cellular_algorithm(obj_fn, dim, grid_size, iterations, lb, ub)\n",
        "\n",
        "print(\"StudentName: Arugunta hamsika\")\n",
        "print(\"USN: 1BM22CS054\")\n",
        "print(\"\\nFinal Best Fitness:\", best_fitness)\n",
        "print(\"Final Best Solution:\", best_solution)\n"
      ]
    }
  ]
}