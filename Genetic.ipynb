{
  "nbformat": 4,
  "nbformat_minor": 0,
  "metadata": {
    "colab": {
      "provenance": [],
      "authorship_tag": "ABX9TyOKwcW8mMeYg9i8Q54ZeIvw",
      "include_colab_link": true
    },
    "kernelspec": {
      "name": "python3",
      "display_name": "Python 3"
    },
    "language_info": {
      "name": "python"
    }
  },
  "cells": [
    {
      "cell_type": "markdown",
      "metadata": {
        "id": "view-in-github",
        "colab_type": "text"
      },
      "source": [
        "<a href=\"https://colab.research.google.com/github/hamsika04/5A_BIS/blob/main/Genetic.ipynb\" target=\"_parent\"><img src=\"https://colab.research.google.com/assets/colab-badge.svg\" alt=\"Open In Colab\"/></a>"
      ]
    },
    {
      "cell_type": "code",
      "execution_count": 2,
      "metadata": {
        "colab": {
          "base_uri": "https://localhost:8080/"
        },
        "id": "LQZfLq_H82Xj",
        "outputId": "f025adb3-f511-43a5-a6b5-d25278c2dfea"
      },
      "outputs": [
        {
          "output_type": "stream",
          "name": "stdout",
          "text": [
            "Student Name: Arugunta Hamsika\n",
            "USN: 1BM22CS054\n",
            "Generation 1: Best Solution = -6.6046, Best Fitness = 87.2973\n",
            "Generation 2: Best Solution = 8.4373, Best Fitness = 87.2973\n",
            "Generation 3: Best Solution = -6.6046, Best Fitness = 71.1880\n",
            "Generation 4: Best Solution = -4.0768, Best Fitness = 78.1813\n",
            "Generation 5: Best Solution = 4.1570, Best Fitness = 87.1569\n",
            "\n",
            "Best Solution Found: x = 8.4373, f(x) = 71.1880\n"
          ]
        }
      ],
      "source": [
        "import numpy as np\n",
        "\n",
        "# Define the fitness function\n",
        "def fitness_function(x):\n",
        "    return x**2  # Maximizing x^2\n",
        "\n",
        "# Genetic Algorithm Parameters\n",
        "population_size = 20\n",
        "mutation_rate = 0.1\n",
        "crossover_rate = 0.7\n",
        "num_generations = 5\n",
        "x_range = (-10, 10)\n",
        "\n",
        "# Initialize the population\n",
        "def initialize_population(size, x_range):\n",
        "    return np.random.uniform(x_range[0], x_range[1], size)\n",
        "\n",
        "# Evaluate the fitness of the population\n",
        "def evaluate_fitness(population):\n",
        "    return fitness_function(population)\n",
        "\n",
        "# Select parents based on fitness\n",
        "def select_parents(population, fitness):\n",
        "    probabilities = fitness / fitness.sum()\n",
        "    parents_indices = np.random.choice(np.arange(len(population)), size=2, p=probabilities)\n",
        "    return population[parents_indices]\n",
        "\n",
        "# Perform crossover between two parents\n",
        "def crossover(parent1, parent2):\n",
        "    if np.random.rand() < crossover_rate:\n",
        "        alpha = np.random.rand()\n",
        "        offspring1 = alpha * parent1 + (1 - alpha) * parent2\n",
        "        offspring2 = alpha * parent2 + (1 - alpha) * parent1\n",
        "        return offspring1, offspring2\n",
        "    return parent1, parent2\n",
        "\n",
        "# Mutate offspring\n",
        "def mutate(offspring):\n",
        "    if np.random.rand() < mutation_rate:\n",
        "        return np.random.uniform(x_range[0], x_range[1])\n",
        "    return offspring\n",
        "\n",
        "# Main Genetic Algorithm\n",
        "def genetic_algorithm():\n",
        "    population = initialize_population(population_size, x_range)\n",
        "    for generation in range(num_generations):\n",
        "        fitness = evaluate_fitness(population)\n",
        "        new_population = []\n",
        "\n",
        "        # Generate new population using selection, crossover, and mutation\n",
        "        for _ in range(population_size // 2):\n",
        "            parent1, parent2 = select_parents(population, fitness)\n",
        "            offspring1, offspring2 = crossover(parent1, parent2)\n",
        "            new_population.append(mutate(offspring1))\n",
        "            new_population.append(mutate(offspring2))\n",
        "\n",
        "        population = np.array(new_population)\n",
        "        best_fitness_index = np.argmax(fitness)\n",
        "        best_solution = population[best_fitness_index]\n",
        "        best_value = fitness[best_fitness_index]\n",
        "\n",
        "        # Print the best solution of the current generation\n",
        "        print(f\"Generation {generation + 1}: Best Solution = {best_solution:.4f}, Best Fitness = {best_value:.4f}\")\n",
        "\n",
        "    # Return the best solution after all generations\n",
        "    fitness = evaluate_fitness(population)\n",
        "    best_fitness_index = np.argmax(fitness)\n",
        "    best_solution = population[best_fitness_index]\n",
        "    best_value = fitness[best_fitness_index]\n",
        "    return best_solution, best_value\n",
        "\n",
        "# Student Information\n",
        "print(\"Student Name: Arugunta Hamsika\")\n",
        "print(\"USN: 1BM22CS054\")\n",
        "\n",
        "# Run the Genetic Algorithm\n",
        "best_solution, best_value = genetic_algorithm()\n",
        "print(f\"\\nBest Solution Found: x = {best_solution:.4f}, f(x) = {best_value:.4f}\")\n"
      ]
    }
  ]
}