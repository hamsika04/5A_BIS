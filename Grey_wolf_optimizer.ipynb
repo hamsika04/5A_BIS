{
  "nbformat": 4,
  "nbformat_minor": 0,
  "metadata": {
    "colab": {
      "provenance": [],
      "authorship_tag": "ABX9TyOJuvemcZMxA6PfZWKxggdh",
      "include_colab_link": true
    },
    "kernelspec": {
      "name": "python3",
      "display_name": "Python 3"
    },
    "language_info": {
      "name": "python"
    }
  },
  "cells": [
    {
      "cell_type": "markdown",
      "metadata": {
        "id": "view-in-github",
        "colab_type": "text"
      },
      "source": [
        "<a href=\"https://colab.research.google.com/github/hamsika04/5A_BIS/blob/main/Grey_wolf_optimizer.ipynb\" target=\"_parent\"><img src=\"https://colab.research.google.com/assets/colab-badge.svg\" alt=\"Open In Colab\"/></a>"
      ]
    },
    {
      "cell_type": "code",
      "execution_count": 1,
      "metadata": {
        "colab": {
          "base_uri": "https://localhost:8080/"
        },
        "id": "_wwh98FI46RA",
        "outputId": "ba051a0c-db1b-463b-cefe-3f71e9c47255"
      },
      "outputs": [
        {
          "output_type": "stream",
          "name": "stdout",
          "text": [
            "StudentName: Arugunta Hamsika\n",
            "USN: 1BM22CS054\n",
            "Iter 1/5, Best Score: 84.34630688935978, Best Pos: [ 1.29367723 -3.92468942 -0.93195502 -7.71636299  2.61891601]\n",
            "Iter 2/5, Best Score: 34.22297612146734, Best Pos: [ 2.15890877  2.28243405 -2.23576108  4.19717256 -1.31821802]\n",
            "Iter 3/5, Best Score: 12.841864768656537, Best Pos: [ 1.29845065 -1.04948688 -1.98464362  0.51677274 -2.41838863]\n",
            "Iter 4/5, Best Score: 5.675987553961365, Best Pos: [ 0.04142838 -0.14879116 -1.39983859 -0.99559265 -1.64358743]\n",
            "Iter 5/5, Best Score: 2.1213537523109123, Best Pos: [ 0.19140871 -0.12108955 -1.03377998 -0.5556274  -0.83224451]\n",
            "StudentName: Arugunta Hamsika\n",
            "USN: 1BM22CS054\n",
            "\n",
            "Final Best Score: 2.1213537523109123\n",
            "Final Best Pos: [ 0.19140871 -0.12108955 -1.03377998 -0.5556274  -0.83224451]\n"
          ]
        }
      ],
      "source": [
        "import numpy as np\n",
        "\n",
        "# Objective function: minimize sum of squares\n",
        "def obj_fn(x):\n",
        "    return np.sum(x**2)\n",
        "\n",
        "# Grey Wolf Optimizer function\n",
        "def gwo(obj_fn, dim, wolves, iters, lb, ub):\n",
        "    # Step 1: Initialize the positions of wolves\n",
        "    pos = np.random.uniform(low=lb, high=ub, size=(wolves, dim))\n",
        "\n",
        "    # Initialize Alpha, Beta, Delta wolves\n",
        "    a_pos, b_pos, d_pos = np.zeros(dim), np.zeros(dim), np.zeros(dim)\n",
        "    a_score, b_score, d_score = float(\"inf\"), float(\"inf\"), float(\"inf\")\n",
        "\n",
        "    # Step 2: Main loop for optimization\n",
        "    for t in range(iters):\n",
        "        # Evaluate the fitness of wolves\n",
        "        for i in range(wolves):\n",
        "            fit = obj_fn(pos[i])\n",
        "            if fit < a_score:  # Update Alpha\n",
        "                d_score, d_pos = b_score, b_pos.copy()\n",
        "                b_score, b_pos = a_score, a_pos.copy()\n",
        "                a_score, a_pos = fit, pos[i].copy()\n",
        "            elif fit < b_score:  # Update Beta\n",
        "                d_score, d_pos = b_score, b_pos.copy()\n",
        "                b_score, b_pos = fit, pos[i].copy()\n",
        "            elif fit < d_score:  # Update Delta\n",
        "                d_score, d_pos = fit, pos[i].copy()\n",
        "\n",
        "        # Update positions of wolves\n",
        "        a = 2 - t * (2 / iters)  # Decreasing coefficient a\n",
        "\n",
        "        for i in range(wolves):\n",
        "            for j in range(dim):\n",
        "                # Position update using Alpha, Beta, Delta\n",
        "                r1, r2 = np.random.rand(), np.random.rand()\n",
        "                A1, C1 = 2 * a * r1 - a, 2 * r2\n",
        "                D_a = abs(C1 * a_pos[j] - pos[i, j])\n",
        "                X1 = a_pos[j] - A1 * D_a\n",
        "\n",
        "                r1, r2 = np.random.rand(), np.random.rand()\n",
        "                A2, C2 = 2 * a * r1 - a, 2 * r2\n",
        "                D_b = abs(C2 * b_pos[j] - pos[i, j])\n",
        "                X2 = b_pos[j] - A2 * D_b\n",
        "\n",
        "                r1, r2 = np.random.rand(), np.random.rand()\n",
        "                A3, C3 = 2 * a * r1 - a, 2 * r2\n",
        "                D_d = abs(C3 * d_pos[j] - pos[i, j])\n",
        "                X3 = d_pos[j] - A3 * D_d\n",
        "\n",
        "                pos[i, j] = (X1 + X2 + X3) / 3  # Update position\n",
        "\n",
        "            # Ensure positions are within bounds\n",
        "            pos[i] = np.clip(pos[i], lb, ub)\n",
        "\n",
        "        # Print progress at each iteration\n",
        "        print(f\"Iter {t+1}/{iters}, Best Score: {a_score}, Best Pos: {a_pos}\")\n",
        "\n",
        "    return a_score, a_pos\n",
        "\n",
        "# Print student details\n",
        "print(\"StudentName: Arugunta Hamsika\")\n",
        "print(\"USN: 1BM22CS054\")\n",
        "\n",
        "# Parameters\n",
        "dim = 5       # Number of dimensions (problem variables)\n",
        "wolves = 20   # Population size (number of wolves)\n",
        "iters = 5     # Number of iterations\n",
        "lb = -10      # Lower bound\n",
        "ub = 10       # Upper bound\n",
        "\n",
        "# Run the Grey Wolf Optimizer\n",
        "best_score, best_pos = gwo(obj_fn, dim, wolves, iters, lb, ub)\n",
        "\n",
        "# Print final results\n",
        "print(\"StudentName: Arugunta Hamsika\")\n",
        "print(\"USN: 1BM22CS054\")\n",
        "print(\"\\nFinal Best Score:\", best_score)\n",
        "print(\"Final Best Pos:\", best_pos)\n"
      ]
    }
  ]
}