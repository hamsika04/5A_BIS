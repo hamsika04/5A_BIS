{
  "nbformat": 4,
  "nbformat_minor": 0,
  "metadata": {
    "colab": {
      "provenance": [],
      "authorship_tag": "ABX9TyM1YZTZf8aWoDU5Ndb4D8Cu",
      "include_colab_link": true
    },
    "kernelspec": {
      "name": "python3",
      "display_name": "Python 3"
    },
    "language_info": {
      "name": "python"
    }
  },
  "cells": [
    {
      "cell_type": "markdown",
      "metadata": {
        "id": "view-in-github",
        "colab_type": "text"
      },
      "source": [
        "<a href=\"https://colab.research.google.com/github/hamsika04/5A_BIS/blob/main/Gene_Expression_.ipynb\" target=\"_parent\"><img src=\"https://colab.research.google.com/assets/colab-badge.svg\" alt=\"Open In Colab\"/></a>"
      ]
    },
    {
      "cell_type": "code",
      "execution_count": null,
      "metadata": {
        "colab": {
          "base_uri": "https://localhost:8080/"
        },
        "id": "kBVXVvrZ35aT",
        "outputId": "9e79c0f3-1753-4504-e7fc-f4f88050ccbb"
      },
      "outputs": [
        {
          "output_type": "stream",
          "name": "stdout",
          "text": [
            "Generation 1, Best Fitness: 5.262965606004646\n",
            "Generation 2, Best Fitness: 4.082911532162543\n",
            "Generation 3, Best Fitness: 4.082911532162543\n",
            "Generation 4, Best Fitness: 4.082911532162543\n",
            "Generation 5, Best Fitness: 4.082911532162543\n",
            "\n",
            "StudentName: Arugunta Hamsika USN: 1BM22CS054\n",
            "Best Solution: [ 1.72997171  0.59494364  0.67083615 -0.1277512  -0.51943237]\n",
            "Best Fitness: 4.082911532162543\n"
          ]
        }
      ],
      "source": [
        "import numpy as np\n",
        "\n",
        "# Objective Function (to minimize)\n",
        "def objective_function(x):\n",
        "    return np.sum(x**2)  # Sum of squares of all genes\n",
        "\n",
        "# Initialize Population\n",
        "def initialize_population(pop_size, num_genes):\n",
        "    return np.random.uniform(-5, 5, (pop_size, num_genes))\n",
        "\n",
        "# Selection: Randomly select two parents\n",
        "def selection(population, fitness):\n",
        "    idx = np.random.choice(len(population), 2, replace=False)  # Select two random indices\n",
        "    return population[idx[0]], population[idx[1]]\n",
        "\n",
        "# Crossover: Combine genes of two parents\n",
        "def crossover(parent1, parent2, crossover_rate):\n",
        "    if np.random.rand() < crossover_rate:\n",
        "        mask = np.random.rand(len(parent1)) > 0.5  # Random mask for gene mixing\n",
        "        offspring = np.where(mask, parent1, parent2)  # Combine genes based on mask\n",
        "        return offspring\n",
        "    else:\n",
        "        return parent1.copy()\n",
        "\n",
        "# Mutation: Slightly modify genes\n",
        "def mutation(offspring, mutation_rate):\n",
        "    for i in range(len(offspring)):\n",
        "        if np.random.rand() < mutation_rate:\n",
        "            offspring[i] += np.random.uniform(-0.5, 0.5)  # Small random change\n",
        "    return offspring\n",
        "\n",
        "# Gene Expression Algorithm\n",
        "def gene_expression_algorithm(objective_function, pop_size=50, num_genes=5,\n",
        "                              mutation_rate=0.1, crossover_rate=0.7, num_generations=100):\n",
        "    # Step 1: Initialize population\n",
        "    population = initialize_population(pop_size, num_genes)\n",
        "    fitness = np.apply_along_axis(objective_function, 1, population)\n",
        "\n",
        "    # Track the best solution\n",
        "    best_solution = population[np.argmin(fitness)]\n",
        "    best_fitness = np.min(fitness)\n",
        "\n",
        "    # Step 2: Iterate through generations\n",
        "    for generation in range(num_generations):\n",
        "        new_population = []\n",
        "\n",
        "        # Generate new population\n",
        "        for _ in range(pop_size):\n",
        "            parent1, parent2 = selection(population, fitness)  # Select parents\n",
        "            offspring = crossover(parent1, parent2, crossover_rate)  # Crossover\n",
        "            offspring = mutation(offspring, mutation_rate)  # Mutation\n",
        "            new_population.append(offspring)\n",
        "\n",
        "        # Replace old population with new\n",
        "        population = np.array(new_population)\n",
        "        fitness = np.apply_along_axis(objective_function, 1, population)\n",
        "\n",
        "        # Update the best solution\n",
        "        best_idx = np.argmin(fitness)\n",
        "        current_best_solution = population[best_idx]\n",
        "        current_best_fitness = fitness[best_idx]\n",
        "\n",
        "        if current_best_fitness < best_fitness:\n",
        "            best_solution = current_best_solution\n",
        "            best_fitness = current_best_fitness\n",
        "\n",
        "        # Print progress\n",
        "        print(f\"Generation {generation + 1}, Best Fitness: {best_fitness}\")\n",
        "\n",
        "    return best_solution, best_fitness\n",
        "\n",
        "# Parameters\n",
        "pop_size = 50         # Population size\n",
        "num_genes = 5         # Number of genes per individual\n",
        "mutation_rate = 0.1   # Probability of mutation\n",
        "crossover_rate = 0.7  # Probability of crossover\n",
        "num_generations = 5 # Number of generations\n",
        "\n",
        "# Run the algorithm\n",
        "best_solution, best_fitness = gene_expression_algorithm(objective_function, pop_size, num_genes,\n",
        "                                                        mutation_rate, crossover_rate, num_generations)\n",
        "\n",
        "# Output the best result\n",
        "print(\"\\nStudentName: Arugunta Hamsika USN: 1BM22CS054\")\n",
        "print(f\"Best Solution: {best_solution}\")\n",
        "print(f\"Best Fitness: {best_fitness}\")\n"
      ]
    },
    {
      "cell_type": "markdown",
      "source": [],
      "metadata": {
        "id": "Wf_3olyK4n0C"
      }
    }
  ]
}