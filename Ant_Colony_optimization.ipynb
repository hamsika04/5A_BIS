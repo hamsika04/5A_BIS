{
  "nbformat": 4,
  "nbformat_minor": 0,
  "metadata": {
    "colab": {
      "provenance": [],
      "authorship_tag": "ABX9TyN5UT4x02Y/wF6Xaq0XKpxN",
      "include_colab_link": true
    },
    "kernelspec": {
      "name": "python3",
      "display_name": "Python 3"
    },
    "language_info": {
      "name": "python"
    }
  },
  "cells": [
    {
      "cell_type": "markdown",
      "metadata": {
        "id": "view-in-github",
        "colab_type": "text"
      },
      "source": [
        "<a href=\"https://colab.research.google.com/github/hamsika04/5A_BIS/blob/main/Ant_Colony_optimization.ipynb\" target=\"_parent\"><img src=\"https://colab.research.google.com/assets/colab-badge.svg\" alt=\"Open In Colab\"/></a>"
      ]
    },
    {
      "cell_type": "code",
      "execution_count": null,
      "metadata": {
        "colab": {
          "base_uri": "https://localhost:8080/"
        },
        "id": "ZMc45kAojXsS",
        "outputId": "d85c2a6b-9207-44e0-ba56-841bffb1869e"
      },
      "outputs": [
        {
          "output_type": "stream",
          "name": "stdout",
          "text": [
            "StudentName: Arugunta Hamsika\n",
            "USN: 1BM22CS054\n",
            "Iteration 1: Best distance = 208\n",
            "Iteration 2: Best distance = 139\n",
            "Iteration 3: Best distance = 139\n",
            "Iteration 4: Best distance = 139\n",
            "Iteration 5: Best distance = 139\n",
            "Best route found: [5, 4, 2, 6, 1, 3, 8, 9, 0, 7, 5] with distance: 139\n"
          ]
        }
      ],
      "source": [
        "import numpy as np\n",
        "import random\n",
        "\n",
        "def create_distance_matrix(n_cities):\n",
        "    np.random.seed(0)\n",
        "    matrix = np.random.randint(1, 100, size=(n_cities, n_cities))\n",
        "    np.fill_diagonal(matrix, 0)\n",
        "    return matrix\n",
        "\n",
        "n_cities = 10\n",
        "n_ants = 20\n",
        "n_iterations = 5\n",
        "alpha = 1\n",
        "beta = 2\n",
        "evaporation_rate = 0.5\n",
        "initial_pheromone = 1\n",
        "\n",
        "distance_matrix = create_distance_matrix(n_cities)\n",
        "pheromone_matrix = np.ones((n_cities, n_cities)) * initial_pheromone\n",
        "\n",
        "class Ant:\n",
        "    def __init__(self, n_cities):\n",
        "        self.n_cities = n_cities\n",
        "        self.route = []\n",
        "        self.distance_travelled = 0\n",
        "\n",
        "    def select_next_city(self, current_city, visited):\n",
        "        probabilities = []\n",
        "        for city in range(self.n_cities):\n",
        "            if city not in visited:\n",
        "                pheromone = pheromone_matrix[current_city][city] ** alpha\n",
        "                heuristic = (1 / distance_matrix[current_city][city]) ** beta\n",
        "                probabilities.append(pheromone * heuristic)\n",
        "            else:\n",
        "                probabilities.append(0)\n",
        "        probabilities = np.array(probabilities) / sum(probabilities)\n",
        "        next_city = np.random.choice(range(self.n_cities), p=probabilities)\n",
        "        return next_city\n",
        "\n",
        "    def find_route(self):\n",
        "        current_city = random.randint(0, self.n_cities - 1)\n",
        "        self.route = [current_city]\n",
        "        visited = set(self.route)\n",
        "        while len(visited) < self.n_cities:\n",
        "            next_city = self.select_next_city(current_city, visited)\n",
        "            self.route.append(next_city)\n",
        "            self.distance_travelled += distance_matrix[current_city][next_city]\n",
        "            visited.add(next_city)\n",
        "            current_city = next_city\n",
        "        self.distance_travelled += distance_matrix[self.route[-1]][self.route[0]]\n",
        "        self.route.append(self.route[0])\n",
        "\n",
        "def update_pheromones(ants):\n",
        "    global pheromone_matrix\n",
        "    pheromone_matrix *= (1 - evaporation_rate)\n",
        "    for ant in ants:\n",
        "        for i in range(len(ant.route) - 1):\n",
        "            city_from = ant.route[i]\n",
        "            city_to = ant.route[i + 1]\n",
        "            pheromone_matrix[city_from][city_to] += 1.0 / ant.distance_travelled\n",
        "            pheromone_matrix[city_to][city_from] += 1.0 / ant.distance_travelled\n",
        "\n",
        "def ant_colony_optimization():\n",
        "    best_route = None\n",
        "    best_distance = float('inf')\n",
        "    for iteration in range(n_iterations):\n",
        "        ants = [Ant(n_cities) for _ in range(n_ants)]\n",
        "        for ant in ants:\n",
        "            ant.find_route()\n",
        "            if ant.distance_travelled < best_distance:\n",
        "                best_distance = ant.distance_travelled\n",
        "                best_route = ant.route\n",
        "        update_pheromones(ants)\n",
        "        print(f\"Iteration {iteration + 1}: Best distance = {best_distance}\")\n",
        "    return best_route, best_distance\n",
        "\n",
        "print(\"StudentName: Arugunta Hamsika\")\n",
        "print(\"USN: 1BM22CS054\")\n",
        "\n",
        "best_route, best_distance = ant_colony_optimization()\n",
        "print(f\"Best route found: {best_route} with distance: {best_distance}\")\n"
      ]
    }
  ]
}