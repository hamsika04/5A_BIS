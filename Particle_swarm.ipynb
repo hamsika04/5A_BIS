{
  "nbformat": 4,
  "nbformat_minor": 0,
  "metadata": {
    "colab": {
      "provenance": [],
      "authorship_tag": "ABX9TyOrhl/+SZo4Xgx31KKTYdr2",
      "include_colab_link": true
    },
    "kernelspec": {
      "name": "python3",
      "display_name": "Python 3"
    },
    "language_info": {
      "name": "python"
    }
  },
  "cells": [
    {
      "cell_type": "markdown",
      "metadata": {
        "id": "view-in-github",
        "colab_type": "text"
      },
      "source": [
        "<a href=\"https://colab.research.google.com/github/hamsika04/5A_BIS/blob/main/Particle_swarm.ipynb\" target=\"_parent\"><img src=\"https://colab.research.google.com/assets/colab-badge.svg\" alt=\"Open In Colab\"/></a>"
      ]
    },
    {
      "cell_type": "code",
      "execution_count": 1,
      "metadata": {
        "colab": {
          "base_uri": "https://localhost:8080/"
        },
        "id": "EtM8ofq09R4J",
        "outputId": "547abe7a-142d-4404-8fb9-71d72270cc5f"
      },
      "outputs": [
        {
          "output_type": "stream",
          "name": "stdout",
          "text": [
            "StudentName: Arugunta Hamsika\n",
            "USN: 1BM22CS054\n",
            "Iteration 1: Global best = 0.0015, Fitness = -0.0000\n",
            "Iteration 2: Global best = 0.0015, Fitness = -0.0000\n",
            "Iteration 3: Global best = 0.0015, Fitness = -0.0000\n",
            "Iteration 4: Global best = 0.0015, Fitness = -0.0000\n",
            "Iteration 5: Global best = 0.0015, Fitness = -0.0000\n",
            "Best solution found: 0.0015, Fitness: -0.0000\n"
          ]
        }
      ],
      "source": [
        "import random\n",
        "\n",
        "# Fitness function: We are minimizing -x^2\n",
        "def fitness_function(x):\n",
        "    return -x ** 2\n",
        "\n",
        "# Particle class\n",
        "class Particle:\n",
        "    def __init__(self, min_x, max_x):\n",
        "        # Initialize position, velocity, and best position\n",
        "        self.position = random.uniform(min_x, max_x)\n",
        "        self.velocity = random.uniform(-1, 1)\n",
        "        self.best_position = self.position\n",
        "        self.best_fitness = fitness_function(self.position)\n",
        "\n",
        "    def update_velocity(self, global_best_position, inertia, cognitive, social):\n",
        "        # Update velocity based on inertia, cognitive, and social components\n",
        "        r1, r2 = random.random(), random.random()\n",
        "        cognitive_velocity = cognitive * r1 * (self.best_position - self.position)\n",
        "        social_velocity = social * r2 * (global_best_position - self.position)\n",
        "        self.velocity = inertia * self.velocity + cognitive_velocity + social_velocity\n",
        "\n",
        "    def update_position(self, min_x, max_x):\n",
        "        # Update position and ensure it stays within bounds\n",
        "        self.position += self.velocity\n",
        "        self.position = max(min(self.position, max_x), min_x)\n",
        "\n",
        "        # Update personal best if necessary\n",
        "        fitness = fitness_function(self.position)\n",
        "        if fitness > self.best_fitness:\n",
        "            self.best_position = self.position\n",
        "            self.best_fitness = fitness\n",
        "\n",
        "# Particle Swarm Optimization function\n",
        "def particle_swarm_optimization(pop_size, min_x, max_x, inertia, cognitive, social, iterations):\n",
        "    # Initialize the swarm\n",
        "    swarm = [Particle(min_x, max_x) for _ in range(pop_size)]\n",
        "    global_best_position = max(swarm, key=lambda p: p.best_fitness).best_position\n",
        "\n",
        "    # Iterate through generations\n",
        "    for iteration in range(iterations):\n",
        "        for particle in swarm:\n",
        "            # Update particle's velocity and position\n",
        "            particle.update_velocity(global_best_position, inertia, cognitive, social)\n",
        "            particle.update_position(min_x, max_x)\n",
        "\n",
        "            # Update global best position\n",
        "            if fitness_function(particle.position) > fitness_function(global_best_position):\n",
        "                global_best_position = particle.position\n",
        "\n",
        "        # Display progress\n",
        "        print(f\"Iteration {iteration + 1}: Global best = {global_best_position:.4f}, Fitness = {fitness_function(global_best_position):.4f}\")\n",
        "\n",
        "    return global_best_position\n",
        "\n",
        "# Main execution\n",
        "print(\"StudentName: Arugunta Hamsika\")\n",
        "print(\"USN: 1BM22CS054\")\n",
        "\n",
        "# Parameters\n",
        "population_size = 30       # Number of particles\n",
        "min_value = -10            # Lower bound of the search space\n",
        "max_value = 10             # Upper bound of the search space\n",
        "inertia_weight = 0.5       # Inertia weight\n",
        "cognitive_constant = 1.5   # Cognitive (personal) coefficient\n",
        "social_constant = 1.5      # Social (global) coefficient\n",
        "num_iterations = 5         # Number of iterations\n",
        "\n",
        "# Run PSO\n",
        "best_solution = particle_swarm_optimization(population_size, min_value, max_value,\n",
        "                                            inertia_weight, cognitive_constant,\n",
        "                                            social_constant, num_iterations)\n",
        "\n",
        "# Display the final result\n",
        "print(f\"Best solution found: {best_solution:.4f}, Fitness: {fitness_function(best_solution):.4f}\")\n"
      ]
    }
  ]
}